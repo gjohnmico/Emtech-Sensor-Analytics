{
  "nbformat": 4,
  "nbformat_minor": 0,
  "metadata": {
    "colab": {
      "provenance": [],
      "authorship_tag": "ABX9TyPm4zoJT3oa6VmXrCc6ZN9R",
      "include_colab_link": true
    },
    "kernelspec": {
      "name": "python3",
      "display_name": "Python 3"
    },
    "language_info": {
      "name": "python"
    }
  },
  "cells": [
    {
      "cell_type": "markdown",
      "metadata": {
        "id": "view-in-github",
        "colab_type": "text"
      },
      "source": [
        "<a href=\"https://colab.research.google.com/github/gjohnmico/Emtech-Sensor-Analytics/blob/main/SensorAnalyticsHW_1.ipynb\" target=\"_parent\"><img src=\"https://colab.research.google.com/assets/colab-badge.svg\" alt=\"Open In Colab\"/></a>"
      ]
    },
    {
      "cell_type": "code",
      "execution_count": 21,
      "metadata": {
        "colab": {
          "base_uri": "https://localhost:8080/"
        },
        "id": "jTTfCVaiEYX0",
        "outputId": "93626a58-3b20-4c7a-fc1e-0e85326842aa"
      },
      "outputs": [
        {
          "output_type": "stream",
          "name": "stdout",
          "text": [
            "The sample set is = [390, 309, 234, 372, 408, 356, 29, 280, 42, 412, 430, 432, 406, 330, 487, 109, 25, 95, 24, 257, 348, 489, 414, 5, 75, 482, 114, 242, 136, 409, 151, 239, 328, 457, 244, 223, 416, 402, 381, 399, 340, 387, 288, 112, 484, 345, 143, 16, 121, 454, 304, 179, 251, 18, 373, 293, 23, 47, 169, 477, 2, 437, 441, 439, 98, 464, 154, 34, 204, 119, 250, 115, 152, 85, 383, 305, 347, 227, 488, 167, 358, 341, 19, 140, 490, 365, 447, 235, 263, 7, 486, 81, 363, 124, 137, 382, 46, 438, 8, 229]\n"
          ]
        }
      ],
      "source": [
        "#Group Collaboration\n",
        "#Balberan, Venus Rita Mae\n",
        "#Baluyot, Jericho\n",
        "#Delos Reyes, Abigail\n",
        "#Guevarra, John Mico\n",
        "#Lorzano, Daryl Khent\n",
        "#Madrigal, Francis\n",
        "\n",
        "#import library\n",
        "import random as rd\n",
        "import statistics as st\n",
        "\n",
        "#generate sample of 100 random numbers between 1-500\n",
        "sample = rd.sample(range(1,500),100)\n",
        "print('The sample set is =', sample)"
      ]
    },
    {
      "cell_type": "code",
      "source": [
        "#calculate mean, median, mode\n",
        "mean = st.mean(sample)\n",
        "print('The mean is', mean)\n",
        "\n",
        "median = st.median(sample)\n",
        "print('The median is', median)\n",
        "\n",
        "mode = st.mode(sample)\n",
        "print('The mode is', mode)"
      ],
      "metadata": {
        "colab": {
          "base_uri": "https://localhost:8080/"
        },
        "id": "dE1md-OVJAt9",
        "outputId": "07df0471-fa06-4fc9-9924-933c501d3e47"
      },
      "execution_count": 22,
      "outputs": [
        {
          "output_type": "stream",
          "name": "stdout",
          "text": [
            "The mean is 260.75\n",
            "The median is 271.5\n",
            "The mode is 390\n"
          ]
        }
      ]
    }
  ]
}
