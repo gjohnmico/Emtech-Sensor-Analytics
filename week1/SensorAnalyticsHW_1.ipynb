{
  "nbformat": 4,
  "nbformat_minor": 0,
  "metadata": {
    "colab": {
      "provenance": [],
      "authorship_tag": "ABX9TyNR1HwFud6lB9qtQimgOgXw",
      "include_colab_link": true
    },
    "kernelspec": {
      "name": "python3",
      "display_name": "Python 3"
    },
    "language_info": {
      "name": "python"
    }
  },
  "cells": [
    {
      "cell_type": "markdown",
      "metadata": {
        "id": "view-in-github",
        "colab_type": "text"
      },
      "source": [
        "<a href=\"https://colab.research.google.com/github/gjohnmico/Emtech-Sensor-Analytics/blob/main/week1/SensorAnalyticsHW_1.ipynb\" target=\"_parent\"><img src=\"https://colab.research.google.com/assets/colab-badge.svg\" alt=\"Open In Colab\"/></a>"
      ]
    },
    {
      "cell_type": "code",
      "execution_count": 43,
      "metadata": {
        "colab": {
          "base_uri": "https://localhost:8080/"
        },
        "id": "jTTfCVaiEYX0",
        "outputId": "30fde5b7-6625-41d6-f34e-063764157a95"
      },
      "outputs": [
        {
          "output_type": "stream",
          "name": "stdout",
          "text": [
            "The sample set is = [18, 8, 28, 67, 39, 18, 88, 54, 22, 63, 36, 79, 45, 16, 44, 8, 40, 88, 25, 85, 93, 35, 69, 38, 99, 6, 12, 92, 40, 41, 92, 73, 99, 77, 61, 97, 95, 16, 19, 53, 42, 44, 34, 81, 1, 82, 21, 63, 51, 73, 28, 4, 22, 90, 19, 83, 16, 53, 90, 15, 53, 74, 90, 22, 19, 13, 92, 67, 9, 67, 61, 12, 73, 30, 49, 70, 44, 75, 31, 24, 81, 9, 31, 24, 3, 16, 58, 74, 31, 45, 87, 51, 17, 90, 15, 67, 85, 55, 47, 20]\n"
          ]
        }
      ],
      "source": [
        "#Group Collaboration\n",
        "#Balberan, Venus Rita Mae\n",
        "#Baluyot, Jericho\n",
        "#Delos Reyes, Abigail\n",
        "#Guevarra, John Mico\n",
        "#Lorzano, Daryl Khent\n",
        "#Madrigal, Francis\n",
        "\n",
        "#import library\n",
        "import random as rd\n",
        "import statistics as st\n",
        "\n",
        "#generate sample of 100 random numbers between 1-100\n",
        "sample = []\n",
        "for i in range(0,100):\n",
        "  n = rd.choice(range(1,100))\n",
        "  sample.append(n)\n",
        "print('The sample set is =', sample)"
      ]
    },
    {
      "cell_type": "code",
      "source": [
        "#calculate mean, median, mode\n",
        "mean = st.mean(sample)\n",
        "print('The mean is', mean)\n",
        "\n",
        "median = st.median(sample)\n",
        "print('The median is', median)\n",
        "\n",
        "mode = st.multimode(sample)\n",
        "print('The mode is', mode)"
      ],
      "metadata": {
        "colab": {
          "base_uri": "https://localhost:8080/"
        },
        "id": "dE1md-OVJAt9",
        "outputId": "df773869-9157-4a2f-c980-95257216ff36"
      },
      "execution_count": 44,
      "outputs": [
        {
          "output_type": "stream",
          "name": "stdout",
          "text": [
            "The mean is 48.71\n",
            "The median is 45.0\n",
            "The mode is [67, 16, 90]\n"
          ]
        }
      ]
    }
  ]
}